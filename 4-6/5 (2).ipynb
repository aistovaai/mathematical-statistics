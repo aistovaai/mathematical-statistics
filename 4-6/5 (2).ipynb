{
 "cells": [
  {
   "cell_type": "code",
   "execution_count": 88,
   "metadata": {},
   "outputs": [],
   "source": [
    "import numpy as np\n",
    "from scipy.stats import uniform, bootstrap, norm\n",
    "import matplotlib.pyplot as plt"
   ]
  },
  {
   "cell_type": "code",
   "execution_count": 89,
   "metadata": {},
   "outputs": [],
   "source": [
    "theta = 100\n",
    "n = 100\n",
    "beta = 0.95\n",
    "alpha = 1 - beta\n",
    "z_score = 1.96"
   ]
  },
  {
   "cell_type": "markdown",
   "metadata": {},
   "source": [
    "# f Генерация выборки"
   ]
  },
  {
   "cell_type": "code",
   "execution_count": 90,
   "metadata": {},
   "outputs": [],
   "source": [
    "np.random.seed(42)\n",
    "sample = uniform.rvs(loc=theta, scale=theta, size=n)\n",
    "\n",
    "sample_mean = np.mean(sample)\n",
    "sample_std = np.std(sample, ddof=1)\n",
    "\n",
    "margin_of_error = z_score * (sample_std / np.sqrt(n))\n",
    "ci_normal = (sample_mean - margin_of_error, sample_mean + margin_of_error)\n"
   ]
  },
  {
   "cell_type": "code",
   "execution_count": 91,
   "metadata": {},
   "outputs": [
    {
     "name": "stdout",
     "output_type": "stream",
     "text": [
      "Доверительный интервал: (99.35692273544554, 101.17648567228193)\n",
      "Pазмах: 1.819562936836391\n"
     ]
    }
   ],
   "source": [
    "np.random.seed(42)\n",
    "sample = uniform.rvs(loc=theta, scale=theta, size=n)\n",
    "\n",
    "x_max = np.max(sample)\n",
    "\n",
    "left  = x_max/(1 + ((1 + beta) / 2) ** (1 / n))\n",
    "right = x_max/(1 + ((1 - beta) / 2) ** (1 / n))\n",
    "\n",
    "print(f\"Доверительный интервал: ({left}, {right})\")\n",
    "print(f\"Pазмах: {right - left}\")"
   ]
  },
  {
   "cell_type": "code",
   "execution_count": 92,
   "metadata": {},
   "outputs": [
    {
     "data": {
      "text/plain": [
       "'theta_1 = 2 * np.mean(sample) / 3\\n\\ns = np.sqrt((np.sum([(x - np.mean(sample)) ** 2 for x in sample]))/(n-1))\\n\\nleft_a = theta_1 - 2 * s * 1.96 * np.sqrt(n - 1)/(3 * n)\\nright_a = theta_1 + 2 * s * 1.96 * np.sqrt(n - 1)/(3 * n)\\n\\nprint(f\"Доверительный ас интервал: ({left_a}, {right_a})\")\\nprint(f\"Pазмах: {right_a - left_a}\")'"
      ]
     },
     "execution_count": 92,
     "metadata": {},
     "output_type": "execute_result"
    }
   ],
   "source": [
    "'''theta_1 = 2 * np.mean(sample) / 3\n",
    "\n",
    "s = np.sqrt((np.sum([(x - np.mean(sample)) ** 2 for x in sample]))/(n-1))\n",
    "\n",
    "left_a = theta_1 - 2 * s * 1.96 * np.sqrt(n - 1)/(3 * n)\n",
    "right_a = theta_1 + 2 * s * 1.96 * np.sqrt(n - 1)/(3 * n)\n",
    "\n",
    "print(f\"Доверительный ас интервал: ({left_a}, {right_a})\")\n",
    "print(f\"Pазмах: {right_a - left_a}\")'''"
   ]
  },
  {
   "cell_type": "code",
   "execution_count": 93,
   "metadata": {},
   "outputs": [
    {
     "name": "stdout",
     "output_type": "stream",
     "text": [
      "Доверительный ас интервал: (94.31508165694666, 101.7090174601479)\n",
      "Pазмах: 7.393935803201245\n"
     ]
    }
   ],
   "source": [
    "sample_mean = np.mean(sample)\n",
    "sample_std = np.std(sample, ddof=1)\n",
    "z_score = norm.ppf(1 - alpha / 2)  # Квантиль для 95% доверительного интервала\n",
    "\n",
    "theta_estimate_mean = (2 / 3) * sample_mean\n",
    "sigma_theta = theta_estimate_mean / np.sqrt(12)\n",
    "\n",
    "# Асимптотический доверительный интервал\n",
    "left_a = (2 / 3) * (sample_mean - z_score * sigma_theta / np.sqrt(n))\n",
    "right_a = (2 / 3) * (sample_mean + z_score * sigma_theta / np.sqrt(n))\n",
    "\n",
    "print(f\"Доверительный ас интервал: ({left_a}, {right_a})\")\n",
    "print(f\"Pазмах: {right_a - left_a}\")"
   ]
  },
  {
   "cell_type": "markdown",
   "metadata": {},
   "source": [
    "# g Бутстраповский доверительный интервал"
   ]
  },
  {
   "cell_type": "code",
   "execution_count": 97,
   "metadata": {},
   "outputs": [],
   "source": [
    "def theta_estimate(data):\n",
    "    return (2 / 3) * np.mean(data)\n",
    "\n",
    "bootstrap_ci = bootstrap((sample,), theta_estimate, confidence_level=beta, method='percentile')"
   ]
  },
  {
   "cell_type": "markdown",
   "metadata": {},
   "source": [
    "# h Сравнение интервалов"
   ]
  },
  {
   "cell_type": "code",
   "execution_count": 98,
   "metadata": {},
   "outputs": [
    {
     "name": "stdout",
     "output_type": "stream",
     "text": [
      "Доверительный интервал: (99.35692273544554, 101.17648567228193)\n",
      "Доверительный ас интервал: (94.31508165694666, 101.7090174601479)\n",
      "Бутстраповский доверительный интервал: ConfidenceInterval(low=94.1425597790994, high=101.87996331154811)\n"
     ]
    }
   ],
   "source": [
    "print(f\"Доверительный интервал: {left, right}\")\n",
    "print(f\"Доверительный ас интервал: {left_a, right_a}\")\n",
    "print(f\"Бутстраповский доверительный интервал: {bootstrap_ci.confidence_interval}\")"
   ]
  },
  {
   "cell_type": "code",
   "execution_count": 99,
   "metadata": {},
   "outputs": [
    {
     "data": {
      "image/png": "[encoded data removed]",
      "text/plain": [
       "<Figure size 1000x600 with 1 Axes>"
      ]
     },
     "metadata": {},
     "output_type": "display_data"
    }
   ],
   "source": [
    "# Визуализация всех интервалов\n",
    "plt.figure(figsize=(10, 6))\n",
    "\n",
    "# Точный интервал\n",
    "plt.plot([left, right], [1, 1], 'ro-', label='Точный интервал', linewidth=2)\n",
    "\n",
    "# Асимптотический интервал\n",
    "plt.plot([left_a, right_a], [2, 2], 'bo-', label='Асимптотический интервал', linewidth=2)\n",
    "\n",
    "# Бутстраповский интервал\n",
    "plt.plot(bootstrap_ci.confidence_interval, [3, 3], 'go-', label='Бутстраповский интервал', linewidth=2)\n",
    "\n",
    "# Настройка графика\n",
    "plt.yticks([1, 2, 3], ['Точный', 'Асимптотический', 'Бутстраповский'])\n",
    "plt.xlabel('Значение theta')\n",
    "plt.title('Сравнение доверительных интервалов для theta')\n",
    "#plt.legend()\n",
    "plt.grid(True)\n",
    "plt.show()"
   ]
  }
 ],
 "metadata": {
  "kernelspec": {
   "display_name": "Python 3",
   "language": "python",
   "name": "python3"
  },
  "language_info": {
   "codemirror_mode": {
    "name": "ipython",
    "version": 3
   },
   "file_extension": ".py",
   "mimetype": "text/x-python",
   "name": "python",
   "nbconvert_exporter": "python",
   "pygments_lexer": "ipython3",
   "version": "3.9.0"
  }
 },
 "nbformat": 4,
 "nbformat_minor": 2
}
